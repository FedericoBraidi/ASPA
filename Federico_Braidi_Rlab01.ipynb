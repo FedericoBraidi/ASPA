{
 "cells": [
  {
   "cell_type": "code",
   "execution_count": 1,
   "metadata": {
    "vscode": {
     "languageId": "r"
    }
   },
   "outputs": [],
   "source": [
    "#1 Import data\n",
    "data2 <- read.csv(\"./Data_CitiBike/JC-201902-citibike-tripdata.csv\")\n",
    "data3 <- read.csv(\"./Data_CitiBike/JC-201903-citibike-tripdata.csv\")\n",
    "data4 <- read.csv(\"./Data_CitiBike/JC-201904-citibike-tripdata.csv\")\n",
    "data5 <- read.csv(\"./Data_CitiBike/JC-201905-citibike-tripdata.csv\")\n",
    "data6 <- read.csv(\"./Data_CitiBike/JC-201906-citibike-tripdata.csv\")"
   ]
  },
  {
   "cell_type": "code",
   "execution_count": 2,
   "metadata": {
    "vscode": {
     "languageId": "r"
    }
   },
   "outputs": [
    {
     "data": {
      "text/html": [
       "150792"
      ],
      "text/latex": [
       "150792"
      ],
      "text/markdown": [
       "150792"
      ],
      "text/plain": [
       "[1] 150792"
      ]
     },
     "metadata": {},
     "output_type": "display_data"
    },
    {
     "data": {
      "text/html": [
       "<style>\n",
       ".list-inline {list-style: none; margin:0; padding: 0}\n",
       ".list-inline>li {display: inline-block}\n",
       ".list-inline>li:not(:last-child)::after {content: \"\\00b7\"; padding: 0 .5ex}\n",
       "</style>\n",
       "<ol class=list-inline><li>'tripduration'</li><li>'starttime'</li><li>'stoptime'</li><li>'start.station.id'</li><li>'start.station.name'</li><li>'start.station.latitude'</li><li>'start.station.longitude'</li><li>'end.station.id'</li><li>'end.station.name'</li><li>'end.station.latitude'</li><li>'end.station.longitude'</li><li>'bikeid'</li><li>'usertype'</li><li>'birth.year'</li><li>'gender'</li></ol>\n"
      ],
      "text/latex": [
       "\\begin{enumerate*}\n",
       "\\item 'tripduration'\n",
       "\\item 'starttime'\n",
       "\\item 'stoptime'\n",
       "\\item 'start.station.id'\n",
       "\\item 'start.station.name'\n",
       "\\item 'start.station.latitude'\n",
       "\\item 'start.station.longitude'\n",
       "\\item 'end.station.id'\n",
       "\\item 'end.station.name'\n",
       "\\item 'end.station.latitude'\n",
       "\\item 'end.station.longitude'\n",
       "\\item 'bikeid'\n",
       "\\item 'usertype'\n",
       "\\item 'birth.year'\n",
       "\\item 'gender'\n",
       "\\end{enumerate*}\n"
      ],
      "text/markdown": [
       "1. 'tripduration'\n",
       "2. 'starttime'\n",
       "3. 'stoptime'\n",
       "4. 'start.station.id'\n",
       "5. 'start.station.name'\n",
       "6. 'start.station.latitude'\n",
       "7. 'start.station.longitude'\n",
       "8. 'end.station.id'\n",
       "9. 'end.station.name'\n",
       "10. 'end.station.latitude'\n",
       "11. 'end.station.longitude'\n",
       "12. 'bikeid'\n",
       "13. 'usertype'\n",
       "14. 'birth.year'\n",
       "15. 'gender'\n",
       "\n",
       "\n"
      ],
      "text/plain": [
       " [1] \"tripduration\"            \"starttime\"              \n",
       " [3] \"stoptime\"                \"start.station.id\"       \n",
       " [5] \"start.station.name\"      \"start.station.latitude\" \n",
       " [7] \"start.station.longitude\" \"end.station.id\"         \n",
       " [9] \"end.station.name\"        \"end.station.latitude\"   \n",
       "[11] \"end.station.longitude\"   \"bikeid\"                 \n",
       "[13] \"usertype\"                \"birth.year\"             \n",
       "[15] \"gender\"                 "
      ]
     },
     "metadata": {},
     "output_type": "display_data"
    }
   ],
   "source": [
    "#2 Merge dataframes\n",
    "data <- rbind(data2,data3,data4,data5,data6)\n",
    "nrow(data)\n",
    "colnames(data)"
   ]
  },
  {
   "cell_type": "code",
   "execution_count": 3,
   "metadata": {
    "vscode": {
     "languageId": "r"
    }
   },
   "outputs": [
    {
     "data": {
      "text/html": [
       "150792"
      ],
      "text/latex": [
       "150792"
      ],
      "text/markdown": [
       "150792"
      ],
      "text/plain": [
       "[1] 150792"
      ]
     },
     "metadata": {},
     "output_type": "display_data"
    }
   ],
   "source": [
    "#3 Eliminate na records if they exist\n",
    "data <- na.omit(data)\n",
    "nrow(data)"
   ]
  },
  {
   "cell_type": "code",
   "execution_count": 9,
   "metadata": {
    "vscode": {
     "languageId": "r"
    }
   },
   "outputs": [
    {
     "data": {
      "text/html": [
       "12.8107127699082"
      ],
      "text/latex": [
       "12.8107127699082"
      ],
      "text/markdown": [
       "12.8107127699082"
      ],
      "text/plain": [
       "[1] 12.81071"
      ]
     },
     "metadata": {},
     "output_type": "display_data"
    },
    {
     "data": {
      "text/html": [
       "5.68333333333333"
      ],
      "text/latex": [
       "5.68333333333333"
      ],
      "text/markdown": [
       "5.68333333333333"
      ],
      "text/plain": [
       "[1] 5.683333"
      ]
     },
     "metadata": {},
     "output_type": "display_data"
    }
   ],
   "source": [
    "#4.1 Compute average and mean trip duration in minutes\n",
    "mean <- mean(data[,\"tripduration\"])/60\n",
    "mean \n",
    "median <- median(data[,\"tripduration\"])/60\n",
    "median"
   ]
  },
  {
   "cell_type": "code",
   "execution_count": 11,
   "metadata": {
    "vscode": {
     "languageId": "r"
    }
   },
   "outputs": [
    {
     "data": {
      "text/html": [
       "28817"
      ],
      "text/latex": [
       "28817"
      ],
      "text/markdown": [
       "28817"
      ],
      "text/plain": [
       "[1] 28817"
      ]
     },
     "metadata": {},
     "output_type": "display_data"
    },
    {
     "data": {
      "text/html": [
       "1.01666666666667"
      ],
      "text/latex": [
       "1.01666666666667"
      ],
      "text/markdown": [
       "1.01666666666667"
      ],
      "text/plain": [
       "[1] 1.016667"
      ]
     },
     "metadata": {},
     "output_type": "display_data"
    }
   ],
   "source": [
    "#4.2 Find lowest and highes value for the trip duration\n",
    "maxduration <- max(data[,\"tripduration\"])/60\n",
    "maxduration\n",
    "minduration <- min(data[,\"tripduration\"])/60\n",
    "minduration"
   ]
  },
  {
   "cell_type": "code",
   "execution_count": 26,
   "metadata": {
    "vscode": {
     "languageId": "r"
    }
   },
   "outputs": [
    {
     "data": {
      "text/html": [
       "2.28322772374496"
      ],
      "text/latex": [
       "2.28322772374496"
      ],
      "text/markdown": [
       "2.28322772374496"
      ],
      "text/plain": [
       "[1] 2.283228"
      ]
     },
     "metadata": {},
     "output_type": "display_data"
    },
    {
     "data": {
      "text/html": [
       "2.38333333333333"
      ],
      "text/latex": [
       "2.38333333333333"
      ],
      "text/markdown": [
       "2.38333333333333"
      ],
      "text/plain": [
       "[1] 2.383333"
      ]
     },
     "metadata": {},
     "output_type": "display_data"
    },
    {
     "data": {
      "text/html": [
       "130434"
      ],
      "text/latex": [
       "130434"
      ],
      "text/markdown": [
       "130434"
      ],
      "text/plain": [
       "[1] 130434"
      ]
     },
     "metadata": {},
     "output_type": "display_data"
    }
   ],
   "source": [
    "#4.3 Repeat poin 4.1 eliminating trips with duration higher than 3 hours, also print the number of skimmed values\n",
    "mean <- mean(data[data$tripduration < 180,\"tripduration\"])/60\n",
    "mean \n",
    "median <- median(data[data$tripduration < 180,\"tripduration\"])/60\n",
    "median\n",
    "skimmed <- nrow(data)-nrow(data[data$tripduration < 180, ])\n",
    "skimmed"
   ]
  },
  {
   "cell_type": "code",
   "execution_count": 33,
   "metadata": {
    "vscode": {
     "languageId": "r"
    }
   },
   "outputs": [
    {
     "data": {
      "image/png": "[encoded data removed]",
      "text/plain": [
       "Plot with title “Distribution of Trip Durations Under 3 Hours”"
      ]
     },
     "metadata": {
      "image/png": {
       "height": 420,
       "width": 420
      }
     },
     "output_type": "display_data"
    }
   ],
   "source": [
    "#4.4 Plot the distribution of the tripduration when it is lower than 3 hours\n",
    "plot(table(data[data$tripduration < 180, \"tripduration\"]/60), \n",
    "     xlab = \"Trip Duration (minutes)\", \n",
    "     ylab = \"Frequency\", \n",
    "     main = \"Distribution of Trip Durations Under 3 Hours\")\n"
   ]
  },
  {
   "cell_type": "code",
   "execution_count": null,
   "metadata": {
    "vscode": {
     "languageId": "r"
    }
   },
   "outputs": [],
   "source": []
  }
 ],
 "metadata": {
  "kernelspec": {
   "display_name": "R",
   "language": "R",
   "name": "ir"
  },
  "language_info": {
   "codemirror_mode": "r",
   "file_extension": ".r",
   "mimetype": "text/x-r-source",
   "name": "R",
   "pygments_lexer": "r",
   "version": "4.3.3"
  }
 },
 "nbformat": 4,
 "nbformat_minor": 2
}
